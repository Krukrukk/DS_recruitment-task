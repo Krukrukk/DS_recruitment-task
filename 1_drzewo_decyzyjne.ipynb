{
 "cells": [
  {
   "cell_type": "markdown",
   "metadata": {},
   "source": [
    "# Zadanie rekrutascyjne - Data Scientist - 3Soft"
   ]
  },
  {
   "cell_type": "code",
   "execution_count": 1,
   "metadata": {},
   "outputs": [],
   "source": [
    "import pandas as pd\n",
    "import numpy as np\n",
    "import matplotlib.pyplot as plt\n",
    "from sklearn.tree import DecisionTreeRegressor\n",
    "from sklearn.ensemble import BaggingRegressor\n",
    "from sklearn.metrics import mean_squared_error, mean_absolute_error, r2_score\n",
    "from sklearn.model_selection import train_test_split\n",
    "import random \n",
    "import multiprocessing as mp"
   ]
  },
  {
   "cell_type": "markdown",
   "metadata": {},
   "source": [
    "## Zadanie 1\n",
    "Napisz funkcję “dt_pred”, która w oparciu o drzewo decyzyjne na podstawie losowego podzbioru obserwacji oraz losowego zestawu atrybutów ze zbioru uczącego zwraca wytrenowanie na podanym zbiorze treningowym drzewo decyzyjne. Odsetek obserwacji oraz odsetek atrybutów wykorzystywanych do uczenia drzewa powinny zostać sparametryzowane. Zadbaj o powtarzalność otrzymywanych wyników. "
   ]
  },
  {
   "cell_type": "code",
   "execution_count": 2,
   "metadata": {},
   "outputs": [],
   "source": [
    "df_descriptive = pd.read_json('data/descriptive_v2.json').ffill()"
   ]
  },
  {
   "cell_type": "code",
   "execution_count": 30,
   "metadata": {},
   "outputs": [],
   "source": [
    "params = {\n",
    "        'DecisionTree':{\n",
    "            'per_size_training_set': 0.8,\n",
    "            'per_size_num_of_atribute': 0.8,\n",
    "            'criterion': \"squared_error\",\n",
    "            'max_depth': 10,\n",
    "            'min_samples_split': 4\n",
    "        },\n",
    "        'RandomForest':{\n",
    "            'n_trees': 100\n",
    "        },\n",
    "        'test_size': 150\n",
    "        }"
   ]
  },
  {
   "cell_type": "code",
   "execution_count": 31,
   "metadata": {},
   "outputs": [],
   "source": [
    "def dt_pred(X: pd.DataFrame, \n",
    "            y: pd.DataFrame,\n",
    "            params: dict,\n",
    "            seed: int=3):\n",
    "    \"\"\"\n",
    "    \n",
    "    \n",
    "    \"\"\"\n",
    "    # Security\n",
    "    if params['DecisionTree']['per_size_training_set'] < 0 or params['DecisionTree']['per_size_training_set'] > 1:\n",
    "        raise ValueError(\"Feature `per_size_training_set` must have a value between 0 and 1.\")\n",
    "    if params['DecisionTree']['per_size_num_of_atribute'] < 0 or params['DecisionTree']['per_size_num_of_atribute'] > 1:\n",
    "        raise ValueError(\"Feature `per_size_num_of_atribute` must have a value between 0 and 1.\")\n",
    "    # Data preparation\n",
    "    np.random.seed(seed)\n",
    "    feature_col = np.random.choice(X.columns.values, \n",
    "                        round(params['DecisionTree']['per_size_num_of_atribute']*len(X.columns.values)), \n",
    "                        replace=False)\n",
    "    X = X[feature_col]\n",
    "    X_train, X_test, y_train, y_test = train_test_split(X, \n",
    "                                                        y, \n",
    "                                                        train_size=params['DecisionTree']['per_size_training_set'], \n",
    "                                                        random_state=seed\n",
    "                                                        )\n",
    "    # Train model\n",
    "    modelTree = DecisionTreeRegressor(criterion=params['DecisionTree']['criterion'], \n",
    "                                      max_depth=params['DecisionTree']['max_depth'],\n",
    "                                      min_samples_split=params['DecisionTree']['min_samples_split'],\n",
    "                                      random_state=seed)\n",
    "    modelTree.fit(X_train, y_train)\n",
    "    return modelTree, feature_col"
   ]
  },
  {
   "cell_type": "markdown",
   "metadata": {},
   "source": [
    "## Zadanie 2\n",
    "Następnie skonstruuj funkcję “dt_bagg”, która wykorzystywać będzie funkcję “dt_pred” (jako tzw. weak learner) w procedurze baggingu*. Pamiętaj o uwzględnieniu odpowiednich (hiper)parametrów tej funkcji. Jeżeli to możliwe postaraj się zrównoleglić obliczenia. "
   ]
  },
  {
   "cell_type": "code",
   "execution_count": 32,
   "metadata": {},
   "outputs": [],
   "source": [
    "class dt_bagg:\n",
    "    def __init__(self,\n",
    "                data: pd.DataFrame, \n",
    "                params: dict, \n",
    "                seed: int=3):\n",
    "        self.data = data\n",
    "        self.params = params\n",
    "        self.seed = seed\n",
    "        # Security\n",
    "        if(self.params['RandomForest']['n_trees'] < 1):\n",
    "            raise ValueError(f\"Feature `n_trees` must have a integer greater or equal 1.\")\n",
    "\n",
    "    def prep_data(self):   \n",
    "        X = self.data.drop(['y'], axis=1)\n",
    "        y = self.data['y'].values\n",
    "        self.X_train, self.X_test, self.y_train, self.y_test = train_test_split(X, \n",
    "                                                            y, \n",
    "                                                            test_size=float(self.params['test_size']/len(X)), \n",
    "                                                            random_state=self.seed\n",
    "                                                            )\n",
    "        print('Data prepared!')\n",
    "\n",
    "    def fit(self):\n",
    "        np.random.seed(self.seed)\n",
    "        list_of_seed = np.random.randint(0,10000, int(self.params['RandomForest']['n_trees']))\n",
    "        self.trainedTree = [dt_pred(self.X_train, self.y_train, self.params, dt_random_state) for dt_random_state in list_of_seed]\n",
    "        print('Models prepared!')\n",
    "\n",
    "    def predict(self):\n",
    "        self.y_pred = np.median([self.trainedTree[idx][0].predict(self.X_test[self.trainedTree[idx][1]]) for idx in range(len(self.trainedTree))], axis=0)\n",
    "        print('Predictions prepared!')\n"
   ]
  },
  {
   "cell_type": "code",
   "execution_count": 33,
   "metadata": {},
   "outputs": [],
   "source": [
    "rf = dt_bagg(df_descriptive, params=params, seed=42)"
   ]
  },
  {
   "cell_type": "code",
   "execution_count": 34,
   "metadata": {},
   "outputs": [
    {
     "name": "stdout",
     "output_type": "stream",
     "text": [
      "Data prepared!\n",
      "Models prepared!\n",
      "Predictions prepared!\n"
     ]
    }
   ],
   "source": [
    "rf.prep_data()\n",
    "rf.fit()\n",
    "rf.predict()"
   ]
  },
  {
   "cell_type": "code",
   "execution_count": 35,
   "metadata": {},
   "outputs": [],
   "source": [
    "def eval_metrics(actual, pred):\n",
    "    rmse = np.sqrt(mean_squared_error(actual, pred))\n",
    "    mae = mean_absolute_error(actual, pred)\n",
    "    r2 = r2_score(actual, pred)\n",
    "    return rmse, mae, r2\n",
    "\n",
    "def print_values(rmse, mae, r2):\n",
    "    print(f\"  RMSE: {rmse}\")\n",
    "    print(f\"  MAE: {mae}\")\n",
    "    print(f\"  R2: {r2}\")"
   ]
  },
  {
   "cell_type": "code",
   "execution_count": 36,
   "metadata": {},
   "outputs": [
    {
     "name": "stdout",
     "output_type": "stream",
     "text": [
      "  RMSE: 3.1911596623531184\n",
      "  MAE: 2.1367559078945124\n",
      "  R2: 0.3440814433860513\n"
     ]
    }
   ],
   "source": [
    "rmse, mae, r2 = eval_metrics(rf.y_test, rf.y_pred)\n",
    "print_values(rmse, mae, r2)"
   ]
  },
  {
   "cell_type": "markdown",
   "metadata": {},
   "source": [
    "## Porównanie do BaggingRegression"
   ]
  },
  {
   "cell_type": "code",
   "execution_count": 40,
   "metadata": {},
   "outputs": [],
   "source": [
    "seed = 42\n",
    "bag_model = BaggingRegressor(\n",
    "    base_estimator=DecisionTreeRegressor(criterion=params['DecisionTree']['criterion'], \n",
    "                                        max_depth=params['DecisionTree']['max_depth'],\n",
    "                                        min_samples_split=params['DecisionTree']['min_samples_split'],\n",
    "                                        random_state=seed), \n",
    "    n_estimators=100, \n",
    "    max_samples=0.8, \n",
    "    max_features=0.8,\n",
    "    bootstrap=True,\n",
    "    oob_score=True,\n",
    "    random_state=42\n",
    ")"
   ]
  },
  {
   "cell_type": "code",
   "execution_count": 41,
   "metadata": {},
   "outputs": [
    {
     "data": {
      "text/html": [
       "<style>#sk-container-id-1 {color: black;background-color: white;}#sk-container-id-1 pre{padding: 0;}#sk-container-id-1 div.sk-toggleable {background-color: white;}#sk-container-id-1 label.sk-toggleable__label {cursor: pointer;display: block;width: 100%;margin-bottom: 0;padding: 0.3em;box-sizing: border-box;text-align: center;}#sk-container-id-1 label.sk-toggleable__label-arrow:before {content: \"▸\";float: left;margin-right: 0.25em;color: #696969;}#sk-container-id-1 label.sk-toggleable__label-arrow:hover:before {color: black;}#sk-container-id-1 div.sk-estimator:hover label.sk-toggleable__label-arrow:before {color: black;}#sk-container-id-1 div.sk-toggleable__content {max-height: 0;max-width: 0;overflow: hidden;text-align: left;background-color: #f0f8ff;}#sk-container-id-1 div.sk-toggleable__content pre {margin: 0.2em;color: black;border-radius: 0.25em;background-color: #f0f8ff;}#sk-container-id-1 input.sk-toggleable__control:checked~div.sk-toggleable__content {max-height: 200px;max-width: 100%;overflow: auto;}#sk-container-id-1 input.sk-toggleable__control:checked~label.sk-toggleable__label-arrow:before {content: \"▾\";}#sk-container-id-1 div.sk-estimator input.sk-toggleable__control:checked~label.sk-toggleable__label {background-color: #d4ebff;}#sk-container-id-1 div.sk-label input.sk-toggleable__control:checked~label.sk-toggleable__label {background-color: #d4ebff;}#sk-container-id-1 input.sk-hidden--visually {border: 0;clip: rect(1px 1px 1px 1px);clip: rect(1px, 1px, 1px, 1px);height: 1px;margin: -1px;overflow: hidden;padding: 0;position: absolute;width: 1px;}#sk-container-id-1 div.sk-estimator {font-family: monospace;background-color: #f0f8ff;border: 1px dotted black;border-radius: 0.25em;box-sizing: border-box;margin-bottom: 0.5em;}#sk-container-id-1 div.sk-estimator:hover {background-color: #d4ebff;}#sk-container-id-1 div.sk-parallel-item::after {content: \"\";width: 100%;border-bottom: 1px solid gray;flex-grow: 1;}#sk-container-id-1 div.sk-label:hover label.sk-toggleable__label {background-color: #d4ebff;}#sk-container-id-1 div.sk-serial::before {content: \"\";position: absolute;border-left: 1px solid gray;box-sizing: border-box;top: 0;bottom: 0;left: 50%;z-index: 0;}#sk-container-id-1 div.sk-serial {display: flex;flex-direction: column;align-items: center;background-color: white;padding-right: 0.2em;padding-left: 0.2em;position: relative;}#sk-container-id-1 div.sk-item {position: relative;z-index: 1;}#sk-container-id-1 div.sk-parallel {display: flex;align-items: stretch;justify-content: center;background-color: white;position: relative;}#sk-container-id-1 div.sk-item::before, #sk-container-id-1 div.sk-parallel-item::before {content: \"\";position: absolute;border-left: 1px solid gray;box-sizing: border-box;top: 0;bottom: 0;left: 50%;z-index: -1;}#sk-container-id-1 div.sk-parallel-item {display: flex;flex-direction: column;z-index: 1;position: relative;background-color: white;}#sk-container-id-1 div.sk-parallel-item:first-child::after {align-self: flex-end;width: 50%;}#sk-container-id-1 div.sk-parallel-item:last-child::after {align-self: flex-start;width: 50%;}#sk-container-id-1 div.sk-parallel-item:only-child::after {width: 0;}#sk-container-id-1 div.sk-dashed-wrapped {border: 1px dashed gray;margin: 0 0.4em 0.5em 0.4em;box-sizing: border-box;padding-bottom: 0.4em;background-color: white;}#sk-container-id-1 div.sk-label label {font-family: monospace;font-weight: bold;display: inline-block;line-height: 1.2em;}#sk-container-id-1 div.sk-label-container {text-align: center;}#sk-container-id-1 div.sk-container {/* jupyter's `normalize.less` sets `[hidden] { display: none; }` but bootstrap.min.css set `[hidden] { display: none !important; }` so we also need the `!important` here to be able to override the default hidden behavior on the sphinx rendered scikit-learn.org. See: https://github.com/scikit-learn/scikit-learn/issues/21755 */display: inline-block !important;position: relative;}#sk-container-id-1 div.sk-text-repr-fallback {display: none;}</style><div id=\"sk-container-id-1\" class=\"sk-top-container\"><div class=\"sk-text-repr-fallback\"><pre>BaggingRegressor(base_estimator=DecisionTreeRegressor(max_depth=10,\n",
       "                                                      min_samples_split=4,\n",
       "                                                      random_state=42),\n",
       "                 max_features=0.8, max_samples=0.8, n_estimators=100,\n",
       "                 oob_score=True, random_state=0)</pre><b>In a Jupyter environment, please rerun this cell to show the HTML representation or trust the notebook. <br />On GitHub, the HTML representation is unable to render, please try loading this page with nbviewer.org.</b></div><div class=\"sk-container\" hidden><div class=\"sk-item sk-dashed-wrapped\"><div class=\"sk-label-container\"><div class=\"sk-label sk-toggleable\"><input class=\"sk-toggleable__control sk-hidden--visually\" id=\"sk-estimator-id-1\" type=\"checkbox\" ><label for=\"sk-estimator-id-1\" class=\"sk-toggleable__label sk-toggleable__label-arrow\">BaggingRegressor</label><div class=\"sk-toggleable__content\"><pre>BaggingRegressor(base_estimator=DecisionTreeRegressor(max_depth=10,\n",
       "                                                      min_samples_split=4,\n",
       "                                                      random_state=42),\n",
       "                 max_features=0.8, max_samples=0.8, n_estimators=100,\n",
       "                 oob_score=True, random_state=0)</pre></div></div></div><div class=\"sk-parallel\"><div class=\"sk-parallel-item\"><div class=\"sk-item\"><div class=\"sk-label-container\"><div class=\"sk-label sk-toggleable\"><input class=\"sk-toggleable__control sk-hidden--visually\" id=\"sk-estimator-id-2\" type=\"checkbox\" ><label for=\"sk-estimator-id-2\" class=\"sk-toggleable__label sk-toggleable__label-arrow\">base_estimator: DecisionTreeRegressor</label><div class=\"sk-toggleable__content\"><pre>DecisionTreeRegressor(max_depth=10, min_samples_split=4, random_state=42)</pre></div></div></div><div class=\"sk-serial\"><div class=\"sk-item\"><div class=\"sk-estimator sk-toggleable\"><input class=\"sk-toggleable__control sk-hidden--visually\" id=\"sk-estimator-id-3\" type=\"checkbox\" ><label for=\"sk-estimator-id-3\" class=\"sk-toggleable__label sk-toggleable__label-arrow\">DecisionTreeRegressor</label><div class=\"sk-toggleable__content\"><pre>DecisionTreeRegressor(max_depth=10, min_samples_split=4, random_state=42)</pre></div></div></div></div></div></div></div></div></div></div>"
      ],
      "text/plain": [
       "BaggingRegressor(base_estimator=DecisionTreeRegressor(max_depth=10,\n",
       "                                                      min_samples_split=4,\n",
       "                                                      random_state=42),\n",
       "                 max_features=0.8, max_samples=0.8, n_estimators=100,\n",
       "                 oob_score=True, random_state=0)"
      ]
     },
     "execution_count": 41,
     "metadata": {},
     "output_type": "execute_result"
    }
   ],
   "source": [
    "bag_model.fit(rf.X_train, rf.y_train)"
   ]
  },
  {
   "cell_type": "code",
   "execution_count": 42,
   "metadata": {},
   "outputs": [],
   "source": [
    "bag_pred = bag_model.predict(rf.X_test)"
   ]
  },
  {
   "cell_type": "code",
   "execution_count": 43,
   "metadata": {},
   "outputs": [
    {
     "name": "stdout",
     "output_type": "stream",
     "text": [
      "  RMSE: 3.307862141765845\n",
      "  MAE: 2.265944693091466\n",
      "  R2: 0.2952296032323086\n"
     ]
    }
   ],
   "source": [
    "rmse, mae, r2 = eval_metrics(rf.y_test, bag_pred)\n",
    "print_values(rmse, mae, r2)"
   ]
  },
  {
   "cell_type": "code",
   "execution_count": null,
   "metadata": {},
   "outputs": [],
   "source": []
  }
 ],
 "metadata": {
  "kernelspec": {
   "display_name": "Python 3.8.5 ('venv_3Soft': venv)",
   "language": "python",
   "name": "python3"
  },
  "language_info": {
   "codemirror_mode": {
    "name": "ipython",
    "version": 3
   },
   "file_extension": ".py",
   "mimetype": "text/x-python",
   "name": "python",
   "nbconvert_exporter": "python",
   "pygments_lexer": "ipython3",
   "version": "3.8.5"
  },
  "orig_nbformat": 4,
  "vscode": {
   "interpreter": {
    "hash": "2c3a066d0aa5fddb223fa2e7d01ee0131b124deabffdfb60f1ea4a02c03483ba"
   }
  }
 },
 "nbformat": 4,
 "nbformat_minor": 2
}
